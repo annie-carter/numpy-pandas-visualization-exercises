{
 "cells": [
  {
   "cell_type": "code",
   "execution_count": 1,
   "id": "ece8864e",
   "metadata": {},
   "outputs": [],
   "source": [
    "import pandas as pd\n",
    "import numpy as np\n"
   ]
  },
  {
   "cell_type": "code",
   "execution_count": 2,
   "id": "94183c79",
   "metadata": {},
   "outputs": [],
   "source": [
    "from pydataset import data"
   ]
  },
  {
   "cell_type": "code",
   "execution_count": 3,
   "id": "d857921d",
   "metadata": {},
   "outputs": [
    {
     "name": "stdout",
     "output_type": "stream",
     "text": [
      "mpg\n",
      "\n",
      "PyDataset Documentation (adopted from R Documentation. The displayed examples are in R)\n",
      "\n",
      "## Fuel economy data from 1999 and 2008 for 38 popular models of car\n",
      "\n",
      "### Description\n",
      "\n",
      "This dataset contains a subset of the fuel economy data that the EPA makes\n",
      "available on http://fueleconomy.gov. It contains only models which had a new\n",
      "release every year between 1999 and 2008 - this was used as a proxy for the\n",
      "popularity of the car.\n",
      "\n",
      "### Usage\n",
      "\n",
      "    data(mpg)\n",
      "\n",
      "### Format\n",
      "\n",
      "A data frame with 234 rows and 11 variables\n",
      "\n",
      "### Details\n",
      "\n",
      "  * manufacturer. \n",
      "\n",
      "  * model. \n",
      "\n",
      "  * displ. engine displacement, in litres \n",
      "\n",
      "  * year. \n",
      "\n",
      "  * cyl. number of cylinders \n",
      "\n",
      "  * trans. type of transmission \n",
      "\n",
      "  * drv. f = front-wheel drive, r = rear wheel drive, 4 = 4wd \n",
      "\n",
      "  * cty. city miles per gallon \n",
      "\n",
      "  * hwy. highway miles per gallon \n",
      "\n",
      "  * fl. \n",
      "\n",
      "  * class. \n",
      "\n",
      "\n"
     ]
    }
   ],
   "source": [
    "# data('mpg', show_doc=True) # view the documentation for the dataset\n",
    "mpg = data('mpg', show_doc=True) # load the dataset and store it in a variable"
   ]
  },
  {
   "cell_type": "markdown",
   "id": "f9d00087",
   "metadata": {},
   "source": [
    "Copy the code from the lesson to create a dataframe full of student grades."
   ]
  },
  {
   "cell_type": "code",
   "execution_count": 4,
   "id": "71a31a2e",
   "metadata": {},
   "outputs": [
    {
     "data": {
      "text/html": [
       "<div>\n",
       "<style scoped>\n",
       "    .dataframe tbody tr th:only-of-type {\n",
       "        vertical-align: middle;\n",
       "    }\n",
       "\n",
       "    .dataframe tbody tr th {\n",
       "        vertical-align: top;\n",
       "    }\n",
       "\n",
       "    .dataframe thead th {\n",
       "        text-align: right;\n",
       "    }\n",
       "</style>\n",
       "<table border=\"1\" class=\"dataframe\">\n",
       "  <thead>\n",
       "    <tr style=\"text-align: right;\">\n",
       "      <th></th>\n",
       "      <th>name</th>\n",
       "      <th>math</th>\n",
       "      <th>english</th>\n",
       "      <th>reading</th>\n",
       "    </tr>\n",
       "  </thead>\n",
       "  <tbody>\n",
       "    <tr>\n",
       "      <th>0</th>\n",
       "      <td>Sally</td>\n",
       "      <td>62</td>\n",
       "      <td>85</td>\n",
       "      <td>80</td>\n",
       "    </tr>\n",
       "    <tr>\n",
       "      <th>1</th>\n",
       "      <td>Jane</td>\n",
       "      <td>88</td>\n",
       "      <td>79</td>\n",
       "      <td>67</td>\n",
       "    </tr>\n",
       "    <tr>\n",
       "      <th>2</th>\n",
       "      <td>Suzie</td>\n",
       "      <td>94</td>\n",
       "      <td>74</td>\n",
       "      <td>95</td>\n",
       "    </tr>\n",
       "    <tr>\n",
       "      <th>3</th>\n",
       "      <td>Billy</td>\n",
       "      <td>98</td>\n",
       "      <td>96</td>\n",
       "      <td>88</td>\n",
       "    </tr>\n",
       "    <tr>\n",
       "      <th>4</th>\n",
       "      <td>Ada</td>\n",
       "      <td>77</td>\n",
       "      <td>92</td>\n",
       "      <td>98</td>\n",
       "    </tr>\n",
       "  </tbody>\n",
       "</table>\n",
       "</div>"
      ],
      "text/plain": [
       "    name  math  english  reading\n",
       "0  Sally    62       85       80\n",
       "1   Jane    88       79       67\n",
       "2  Suzie    94       74       95\n",
       "3  Billy    98       96       88\n",
       "4    Ada    77       92       98"
      ]
     },
     "execution_count": 4,
     "metadata": {},
     "output_type": "execute_result"
    }
   ],
   "source": [
    "np.random.seed(123)\n",
    "\n",
    "students = ['Sally', 'Jane', 'Suzie', 'Billy', 'Ada', 'John', 'Thomas',\n",
    "            'Marie', 'Albert', 'Richard', 'Isaac', 'Alan']\n",
    "\n",
    "# randomly generate scores for each student for each subject\n",
    "# note that all the values need to have the same length here\n",
    "math_grades = np.random.randint(low=60, high=100, size=len(students))\n",
    "english_grades = np.random.randint(low=60, high=100, size=len(students))\n",
    "reading_grades = np.random.randint(low=60, high=100, size=len(students))\n",
    "\n",
    "students_df = pd.DataFrame({'name': students,\n",
    "                   'math': math_grades,\n",
    "                   'english': english_grades,\n",
    "                   'reading': reading_grades})\n",
    "students_df.head()"
   ]
  },
  {
   "cell_type": "markdown",
   "id": "52fff10b",
   "metadata": {},
   "source": [
    "Create a column named passing_english that indicates whether each student has a passing grade in english."
   ]
  },
  {
   "cell_type": "code",
   "execution_count": 5,
   "id": "0829ca42",
   "metadata": {},
   "outputs": [
    {
     "name": "stdout",
     "output_type": "stream",
     "text": [
      "       name  math  english  reading  passing_english\n",
      "0     Sally    62       85       80             True\n",
      "1      Jane    88       79       67             True\n",
      "2     Suzie    94       74       95             True\n",
      "3     Billy    98       96       88             True\n",
      "4       Ada    77       92       98             True\n",
      "5      John    79       76       93             True\n",
      "6    Thomas    82       64       81            False\n",
      "7     Marie    93       63       90            False\n",
      "8    Albert    92       62       87            False\n",
      "9   Richard    69       80       94             True\n",
      "10    Isaac    92       99       93             True\n",
      "11     Alan    92       62       72            False\n"
     ]
    }
   ],
   "source": [
    "students_df['passing_english'] = students_df['english'] > 70\n",
    "print(students_df)"
   ]
  },
  {
   "cell_type": "markdown",
   "id": "65d8c82e",
   "metadata": {},
   "source": [
    "Sort the english grades by the passing_english column. How are duplicates handled?"
   ]
  },
  {
   "cell_type": "code",
   "execution_count": 6,
   "id": "ef918691",
   "metadata": {},
   "outputs": [
    {
     "data": {
      "text/plain": [
       "passing_english\n",
       "True     8\n",
       "False    4\n",
       "dtype: int64"
      ]
     },
     "execution_count": 6,
     "metadata": {},
     "output_type": "execute_result"
    }
   ],
   "source": [
    "students_df.value_counts('passing_english')"
   ]
  },
  {
   "cell_type": "markdown",
   "id": "a45da2d3",
   "metadata": {},
   "source": [
    "Sort the english grades first by passing_english and then by student name. All the students that are failing english should be first, and within the students that are failing english they should be ordered alphabetically. The same should be true for the students passing english. (Hint: you can pass a list to the .sort_values method)"
   ]
  },
  {
   "cell_type": "code",
   "execution_count": 7,
   "id": "3357a606",
   "metadata": {},
   "outputs": [
    {
     "data": {
      "text/html": [
       "<div>\n",
       "<style scoped>\n",
       "    .dataframe tbody tr th:only-of-type {\n",
       "        vertical-align: middle;\n",
       "    }\n",
       "\n",
       "    .dataframe tbody tr th {\n",
       "        vertical-align: top;\n",
       "    }\n",
       "\n",
       "    .dataframe thead th {\n",
       "        text-align: right;\n",
       "    }\n",
       "</style>\n",
       "<table border=\"1\" class=\"dataframe\">\n",
       "  <thead>\n",
       "    <tr style=\"text-align: right;\">\n",
       "      <th></th>\n",
       "      <th>name</th>\n",
       "      <th>math</th>\n",
       "      <th>english</th>\n",
       "      <th>reading</th>\n",
       "      <th>passing_english</th>\n",
       "    </tr>\n",
       "  </thead>\n",
       "  <tbody>\n",
       "    <tr>\n",
       "      <th>11</th>\n",
       "      <td>Alan</td>\n",
       "      <td>92</td>\n",
       "      <td>62</td>\n",
       "      <td>72</td>\n",
       "      <td>False</td>\n",
       "    </tr>\n",
       "    <tr>\n",
       "      <th>8</th>\n",
       "      <td>Albert</td>\n",
       "      <td>92</td>\n",
       "      <td>62</td>\n",
       "      <td>87</td>\n",
       "      <td>False</td>\n",
       "    </tr>\n",
       "    <tr>\n",
       "      <th>7</th>\n",
       "      <td>Marie</td>\n",
       "      <td>93</td>\n",
       "      <td>63</td>\n",
       "      <td>90</td>\n",
       "      <td>False</td>\n",
       "    </tr>\n",
       "    <tr>\n",
       "      <th>6</th>\n",
       "      <td>Thomas</td>\n",
       "      <td>82</td>\n",
       "      <td>64</td>\n",
       "      <td>81</td>\n",
       "      <td>False</td>\n",
       "    </tr>\n",
       "    <tr>\n",
       "      <th>4</th>\n",
       "      <td>Ada</td>\n",
       "      <td>77</td>\n",
       "      <td>92</td>\n",
       "      <td>98</td>\n",
       "      <td>True</td>\n",
       "    </tr>\n",
       "    <tr>\n",
       "      <th>3</th>\n",
       "      <td>Billy</td>\n",
       "      <td>98</td>\n",
       "      <td>96</td>\n",
       "      <td>88</td>\n",
       "      <td>True</td>\n",
       "    </tr>\n",
       "    <tr>\n",
       "      <th>10</th>\n",
       "      <td>Isaac</td>\n",
       "      <td>92</td>\n",
       "      <td>99</td>\n",
       "      <td>93</td>\n",
       "      <td>True</td>\n",
       "    </tr>\n",
       "    <tr>\n",
       "      <th>1</th>\n",
       "      <td>Jane</td>\n",
       "      <td>88</td>\n",
       "      <td>79</td>\n",
       "      <td>67</td>\n",
       "      <td>True</td>\n",
       "    </tr>\n",
       "    <tr>\n",
       "      <th>5</th>\n",
       "      <td>John</td>\n",
       "      <td>79</td>\n",
       "      <td>76</td>\n",
       "      <td>93</td>\n",
       "      <td>True</td>\n",
       "    </tr>\n",
       "    <tr>\n",
       "      <th>9</th>\n",
       "      <td>Richard</td>\n",
       "      <td>69</td>\n",
       "      <td>80</td>\n",
       "      <td>94</td>\n",
       "      <td>True</td>\n",
       "    </tr>\n",
       "    <tr>\n",
       "      <th>0</th>\n",
       "      <td>Sally</td>\n",
       "      <td>62</td>\n",
       "      <td>85</td>\n",
       "      <td>80</td>\n",
       "      <td>True</td>\n",
       "    </tr>\n",
       "    <tr>\n",
       "      <th>2</th>\n",
       "      <td>Suzie</td>\n",
       "      <td>94</td>\n",
       "      <td>74</td>\n",
       "      <td>95</td>\n",
       "      <td>True</td>\n",
       "    </tr>\n",
       "  </tbody>\n",
       "</table>\n",
       "</div>"
      ],
      "text/plain": [
       "       name  math  english  reading  passing_english\n",
       "11     Alan    92       62       72            False\n",
       "8    Albert    92       62       87            False\n",
       "7     Marie    93       63       90            False\n",
       "6    Thomas    82       64       81            False\n",
       "4       Ada    77       92       98             True\n",
       "3     Billy    98       96       88             True\n",
       "10    Isaac    92       99       93             True\n",
       "1      Jane    88       79       67             True\n",
       "5      John    79       76       93             True\n",
       "9   Richard    69       80       94             True\n",
       "0     Sally    62       85       80             True\n",
       "2     Suzie    94       74       95             True"
      ]
     },
     "execution_count": 7,
     "metadata": {},
     "output_type": "execute_result"
    }
   ],
   "source": [
    "students_df.sort_values(['passing_english', 'name'])"
   ]
  },
  {
   "cell_type": "markdown",
   "id": "993aab0c",
   "metadata": {},
   "source": [
    "Sort the english grades first by passing_english, and then by the actual english grade, similar to how we did in the last step."
   ]
  },
  {
   "cell_type": "code",
   "execution_count": 8,
   "id": "83333960",
   "metadata": {},
   "outputs": [
    {
     "data": {
      "text/plain": [
       "passing_english\n",
       "True     8\n",
       "False    4\n",
       "dtype: int64"
      ]
     },
     "execution_count": 8,
     "metadata": {},
     "output_type": "execute_result"
    }
   ],
   "source": [
    "students_df.value_counts('passing_english')"
   ]
  },
  {
   "cell_type": "markdown",
   "id": "42bf61d3",
   "metadata": {},
   "source": [
    "Calculate each students overall grade and add it as a column on the dataframe. The overall grade is the average of the math, english, and reading grades."
   ]
  },
  {
   "cell_type": "code",
   "execution_count": 9,
   "id": "52a5e9d1",
   "metadata": {},
   "outputs": [],
   "source": [
    "students_df['overall_grade']= students_df[['english','math','reading']].mean(axis=1)"
   ]
  },
  {
   "cell_type": "markdown",
   "id": "b03283ba",
   "metadata": {},
   "source": [
    "Load the mpg dataset. Read the documentation for the dataset and use it for the following questions:"
   ]
  },
  {
   "cell_type": "code",
   "execution_count": 10,
   "id": "fb3e59b3",
   "metadata": {},
   "outputs": [
    {
     "name": "stdout",
     "output_type": "stream",
     "text": [
      "    manufacturer   model  displ  year  cyl       trans drv  cty  hwy fl  \\\n",
      "1           audi      a4    1.8  1999    4    auto(l5)   f   18   29  p   \n",
      "2           audi      a4    1.8  1999    4  manual(m5)   f   21   29  p   \n",
      "3           audi      a4    2.0  2008    4  manual(m6)   f   20   31  p   \n",
      "4           audi      a4    2.0  2008    4    auto(av)   f   21   30  p   \n",
      "5           audi      a4    2.8  1999    6    auto(l5)   f   16   26  p   \n",
      "..           ...     ...    ...   ...  ...         ...  ..  ...  ... ..   \n",
      "230   volkswagen  passat    2.0  2008    4    auto(s6)   f   19   28  p   \n",
      "231   volkswagen  passat    2.0  2008    4  manual(m6)   f   21   29  p   \n",
      "232   volkswagen  passat    2.8  1999    6    auto(l5)   f   16   26  p   \n",
      "233   volkswagen  passat    2.8  1999    6  manual(m5)   f   18   26  p   \n",
      "234   volkswagen  passat    3.6  2008    6    auto(s6)   f   17   26  p   \n",
      "\n",
      "       class  \n",
      "1    compact  \n",
      "2    compact  \n",
      "3    compact  \n",
      "4    compact  \n",
      "5    compact  \n",
      "..       ...  \n",
      "230  midsize  \n",
      "231  midsize  \n",
      "232  midsize  \n",
      "233  midsize  \n",
      "234  midsize  \n",
      "\n",
      "[234 rows x 11 columns]\n"
     ]
    }
   ],
   "source": [
    "mpg_df = data('mpg')\n",
    "print(mpg_df)"
   ]
  },
  {
   "cell_type": "markdown",
   "id": "d7a29f18",
   "metadata": {},
   "source": [
    "How many rows and columns are there?"
   ]
  },
  {
   "cell_type": "code",
   "execution_count": 11,
   "id": "7a840745",
   "metadata": {},
   "outputs": [
    {
     "data": {
      "text/plain": [
       "(234, 11)"
      ]
     },
     "execution_count": 11,
     "metadata": {},
     "output_type": "execute_result"
    }
   ],
   "source": [
    "mpg_df.shape"
   ]
  },
  {
   "cell_type": "markdown",
   "id": "bd6127f2",
   "metadata": {},
   "source": [
    "What are the data types of each column?"
   ]
  },
  {
   "cell_type": "code",
   "execution_count": 12,
   "id": "1c836a5c",
   "metadata": {},
   "outputs": [
    {
     "data": {
      "text/plain": [
       "manufacturer     object\n",
       "model            object\n",
       "displ           float64\n",
       "year              int64\n",
       "cyl               int64\n",
       "trans            object\n",
       "drv              object\n",
       "cty               int64\n",
       "hwy               int64\n",
       "fl               object\n",
       "class            object\n",
       "dtype: object"
      ]
     },
     "execution_count": 12,
     "metadata": {},
     "output_type": "execute_result"
    }
   ],
   "source": [
    "mpg_df.dtypes"
   ]
  },
  {
   "cell_type": "markdown",
   "id": "56f68e51",
   "metadata": {},
   "source": [
    "Summarize the dataframe with .info and .describe"
   ]
  },
  {
   "cell_type": "code",
   "execution_count": 13,
   "id": "67c65057",
   "metadata": {},
   "outputs": [
    {
     "data": {
      "text/plain": [
       "(            displ         year         cyl         cty         hwy\n",
       " count  234.000000   234.000000  234.000000  234.000000  234.000000\n",
       " mean     3.471795  2003.500000    5.888889   16.858974   23.440171\n",
       " std      1.291959     4.509646    1.611534    4.255946    5.954643\n",
       " min      1.600000  1999.000000    4.000000    9.000000   12.000000\n",
       " 25%      2.400000  1999.000000    4.000000   14.000000   18.000000\n",
       " 50%      3.300000  2003.500000    6.000000   17.000000   24.000000\n",
       " 75%      4.600000  2008.000000    8.000000   19.000000   27.000000\n",
       " max      7.000000  2008.000000    8.000000   35.000000   44.000000,\n",
       " <bound method DataFrame.info of     manufacturer   model  displ  year  cyl       trans drv  cty  hwy fl  \\\n",
       " 1           audi      a4    1.8  1999    4    auto(l5)   f   18   29  p   \n",
       " 2           audi      a4    1.8  1999    4  manual(m5)   f   21   29  p   \n",
       " 3           audi      a4    2.0  2008    4  manual(m6)   f   20   31  p   \n",
       " 4           audi      a4    2.0  2008    4    auto(av)   f   21   30  p   \n",
       " 5           audi      a4    2.8  1999    6    auto(l5)   f   16   26  p   \n",
       " ..           ...     ...    ...   ...  ...         ...  ..  ...  ... ..   \n",
       " 230   volkswagen  passat    2.0  2008    4    auto(s6)   f   19   28  p   \n",
       " 231   volkswagen  passat    2.0  2008    4  manual(m6)   f   21   29  p   \n",
       " 232   volkswagen  passat    2.8  1999    6    auto(l5)   f   16   26  p   \n",
       " 233   volkswagen  passat    2.8  1999    6  manual(m5)   f   18   26  p   \n",
       " 234   volkswagen  passat    3.6  2008    6    auto(s6)   f   17   26  p   \n",
       " \n",
       "        class  \n",
       " 1    compact  \n",
       " 2    compact  \n",
       " 3    compact  \n",
       " 4    compact  \n",
       " 5    compact  \n",
       " ..       ...  \n",
       " 230  midsize  \n",
       " 231  midsize  \n",
       " 232  midsize  \n",
       " 233  midsize  \n",
       " 234  midsize  \n",
       " \n",
       " [234 rows x 11 columns]>)"
      ]
     },
     "execution_count": 13,
     "metadata": {},
     "output_type": "execute_result"
    }
   ],
   "source": [
    "mpg_df.describe(), mpg_df.info"
   ]
  },
  {
   "cell_type": "markdown",
   "id": "9ce43bca",
   "metadata": {},
   "source": [
    "Rename the cty column to city."
   ]
  },
  {
   "cell_type": "code",
   "execution_count": 14,
   "id": "afbdeff2",
   "metadata": {},
   "outputs": [],
   "source": [
    "mpg_df = mpg_df.rename(columns={'cty':'city'})"
   ]
  },
  {
   "cell_type": "markdown",
   "id": "1835222d",
   "metadata": {},
   "source": [
    "Rename the hwy column to highway."
   ]
  },
  {
   "cell_type": "code",
   "execution_count": 15,
   "id": "5dc35b62",
   "metadata": {},
   "outputs": [
    {
     "name": "stdout",
     "output_type": "stream",
     "text": [
      "    manufacturer   model  displ  year  cyl       trans drv  city  highway fl  \\\n",
      "1           audi      a4    1.8  1999    4    auto(l5)   f    18       29  p   \n",
      "2           audi      a4    1.8  1999    4  manual(m5)   f    21       29  p   \n",
      "3           audi      a4    2.0  2008    4  manual(m6)   f    20       31  p   \n",
      "4           audi      a4    2.0  2008    4    auto(av)   f    21       30  p   \n",
      "5           audi      a4    2.8  1999    6    auto(l5)   f    16       26  p   \n",
      "..           ...     ...    ...   ...  ...         ...  ..   ...      ... ..   \n",
      "230   volkswagen  passat    2.0  2008    4    auto(s6)   f    19       28  p   \n",
      "231   volkswagen  passat    2.0  2008    4  manual(m6)   f    21       29  p   \n",
      "232   volkswagen  passat    2.8  1999    6    auto(l5)   f    16       26  p   \n",
      "233   volkswagen  passat    2.8  1999    6  manual(m5)   f    18       26  p   \n",
      "234   volkswagen  passat    3.6  2008    6    auto(s6)   f    17       26  p   \n",
      "\n",
      "       class  \n",
      "1    compact  \n",
      "2    compact  \n",
      "3    compact  \n",
      "4    compact  \n",
      "5    compact  \n",
      "..       ...  \n",
      "230  midsize  \n",
      "231  midsize  \n",
      "232  midsize  \n",
      "233  midsize  \n",
      "234  midsize  \n",
      "\n",
      "[234 rows x 11 columns]\n"
     ]
    }
   ],
   "source": [
    "mpg_df = mpg_df.rename(columns={'hwy':'highway'})\n",
    "print(mpg_df)"
   ]
  },
  {
   "cell_type": "markdown",
   "id": "b0ed9945",
   "metadata": {},
   "source": [
    "Do any cars have better city mileage than highway mileage?"
   ]
  },
  {
   "cell_type": "code",
   "execution_count": 16,
   "id": "10700698",
   "metadata": {},
   "outputs": [
    {
     "data": {
      "text/plain": [
       "False"
      ]
     },
     "execution_count": 16,
     "metadata": {},
     "output_type": "execute_result"
    }
   ],
   "source": [
    "(mpg_df['city'] > mpg_df['highway']).any()"
   ]
  },
  {
   "cell_type": "markdown",
   "id": "4c26aff9",
   "metadata": {},
   "source": [
    "Create a column named mileage_difference this column should contain the difference between highway and city mileage for each car."
   ]
  },
  {
   "cell_type": "code",
   "execution_count": 17,
   "id": "9a8c5ed7",
   "metadata": {},
   "outputs": [
    {
     "data": {
      "text/html": [
       "<div>\n",
       "<style scoped>\n",
       "    .dataframe tbody tr th:only-of-type {\n",
       "        vertical-align: middle;\n",
       "    }\n",
       "\n",
       "    .dataframe tbody tr th {\n",
       "        vertical-align: top;\n",
       "    }\n",
       "\n",
       "    .dataframe thead th {\n",
       "        text-align: right;\n",
       "    }\n",
       "</style>\n",
       "<table border=\"1\" class=\"dataframe\">\n",
       "  <thead>\n",
       "    <tr style=\"text-align: right;\">\n",
       "      <th></th>\n",
       "      <th>manufacturer</th>\n",
       "      <th>model</th>\n",
       "      <th>displ</th>\n",
       "      <th>year</th>\n",
       "      <th>cyl</th>\n",
       "      <th>trans</th>\n",
       "      <th>drv</th>\n",
       "      <th>city</th>\n",
       "      <th>highway</th>\n",
       "      <th>fl</th>\n",
       "      <th>class</th>\n",
       "      <th>mileage_difference</th>\n",
       "    </tr>\n",
       "  </thead>\n",
       "  <tbody>\n",
       "    <tr>\n",
       "      <th>1</th>\n",
       "      <td>audi</td>\n",
       "      <td>a4</td>\n",
       "      <td>1.8</td>\n",
       "      <td>1999</td>\n",
       "      <td>4</td>\n",
       "      <td>auto(l5)</td>\n",
       "      <td>f</td>\n",
       "      <td>18</td>\n",
       "      <td>29</td>\n",
       "      <td>p</td>\n",
       "      <td>compact</td>\n",
       "      <td>11</td>\n",
       "    </tr>\n",
       "    <tr>\n",
       "      <th>2</th>\n",
       "      <td>audi</td>\n",
       "      <td>a4</td>\n",
       "      <td>1.8</td>\n",
       "      <td>1999</td>\n",
       "      <td>4</td>\n",
       "      <td>manual(m5)</td>\n",
       "      <td>f</td>\n",
       "      <td>21</td>\n",
       "      <td>29</td>\n",
       "      <td>p</td>\n",
       "      <td>compact</td>\n",
       "      <td>8</td>\n",
       "    </tr>\n",
       "    <tr>\n",
       "      <th>3</th>\n",
       "      <td>audi</td>\n",
       "      <td>a4</td>\n",
       "      <td>2.0</td>\n",
       "      <td>2008</td>\n",
       "      <td>4</td>\n",
       "      <td>manual(m6)</td>\n",
       "      <td>f</td>\n",
       "      <td>20</td>\n",
       "      <td>31</td>\n",
       "      <td>p</td>\n",
       "      <td>compact</td>\n",
       "      <td>11</td>\n",
       "    </tr>\n",
       "    <tr>\n",
       "      <th>4</th>\n",
       "      <td>audi</td>\n",
       "      <td>a4</td>\n",
       "      <td>2.0</td>\n",
       "      <td>2008</td>\n",
       "      <td>4</td>\n",
       "      <td>auto(av)</td>\n",
       "      <td>f</td>\n",
       "      <td>21</td>\n",
       "      <td>30</td>\n",
       "      <td>p</td>\n",
       "      <td>compact</td>\n",
       "      <td>9</td>\n",
       "    </tr>\n",
       "    <tr>\n",
       "      <th>5</th>\n",
       "      <td>audi</td>\n",
       "      <td>a4</td>\n",
       "      <td>2.8</td>\n",
       "      <td>1999</td>\n",
       "      <td>6</td>\n",
       "      <td>auto(l5)</td>\n",
       "      <td>f</td>\n",
       "      <td>16</td>\n",
       "      <td>26</td>\n",
       "      <td>p</td>\n",
       "      <td>compact</td>\n",
       "      <td>10</td>\n",
       "    </tr>\n",
       "  </tbody>\n",
       "</table>\n",
       "</div>"
      ],
      "text/plain": [
       "  manufacturer model  displ  year  cyl       trans drv  city  highway fl  \\\n",
       "1         audi    a4    1.8  1999    4    auto(l5)   f    18       29  p   \n",
       "2         audi    a4    1.8  1999    4  manual(m5)   f    21       29  p   \n",
       "3         audi    a4    2.0  2008    4  manual(m6)   f    20       31  p   \n",
       "4         audi    a4    2.0  2008    4    auto(av)   f    21       30  p   \n",
       "5         audi    a4    2.8  1999    6    auto(l5)   f    16       26  p   \n",
       "\n",
       "     class  mileage_difference  \n",
       "1  compact                  11  \n",
       "2  compact                   8  \n",
       "3  compact                  11  \n",
       "4  compact                   9  \n",
       "5  compact                  10  "
      ]
     },
     "execution_count": 17,
     "metadata": {},
     "output_type": "execute_result"
    }
   ],
   "source": [
    "mpg_df['mileage_difference'] = mpg_df['highway'] - mpg_df['city']\n",
    "mpg_df.head()"
   ]
  },
  {
   "cell_type": "markdown",
   "id": "0ac84eb9",
   "metadata": {},
   "source": [
    "Which car (or cars) has the highest mileage difference?"
   ]
  },
  {
   "cell_type": "code",
   "execution_count": 28,
   "id": "4c475347",
   "metadata": {},
   "outputs": [
    {
     "ename": "KeyError",
     "evalue": "'average_mileage'",
     "output_type": "error",
     "traceback": [
      "\u001b[0;31m---------------------------------------------------------------------------\u001b[0m",
      "\u001b[0;31mKeyError\u001b[0m                                  Traceback (most recent call last)",
      "File \u001b[0;32m/opt/homebrew/anaconda3/lib/python3.10/site-packages/pandas/core/indexes/base.py:3802\u001b[0m, in \u001b[0;36mIndex.get_loc\u001b[0;34m(self, key, method, tolerance)\u001b[0m\n\u001b[1;32m   3801\u001b[0m \u001b[38;5;28;01mtry\u001b[39;00m:\n\u001b[0;32m-> 3802\u001b[0m     \u001b[38;5;28;01mreturn\u001b[39;00m \u001b[38;5;28;43mself\u001b[39;49m\u001b[38;5;241;43m.\u001b[39;49m\u001b[43m_engine\u001b[49m\u001b[38;5;241;43m.\u001b[39;49m\u001b[43mget_loc\u001b[49m\u001b[43m(\u001b[49m\u001b[43mcasted_key\u001b[49m\u001b[43m)\u001b[49m\n\u001b[1;32m   3803\u001b[0m \u001b[38;5;28;01mexcept\u001b[39;00m \u001b[38;5;167;01mKeyError\u001b[39;00m \u001b[38;5;28;01mas\u001b[39;00m err:\n",
      "File \u001b[0;32m/opt/homebrew/anaconda3/lib/python3.10/site-packages/pandas/_libs/index.pyx:138\u001b[0m, in \u001b[0;36mpandas._libs.index.IndexEngine.get_loc\u001b[0;34m()\u001b[0m\n",
      "File \u001b[0;32m/opt/homebrew/anaconda3/lib/python3.10/site-packages/pandas/_libs/index.pyx:165\u001b[0m, in \u001b[0;36mpandas._libs.index.IndexEngine.get_loc\u001b[0;34m()\u001b[0m\n",
      "File \u001b[0;32mpandas/_libs/hashtable_class_helper.pxi:5745\u001b[0m, in \u001b[0;36mpandas._libs.hashtable.PyObjectHashTable.get_item\u001b[0;34m()\u001b[0m\n",
      "File \u001b[0;32mpandas/_libs/hashtable_class_helper.pxi:5753\u001b[0m, in \u001b[0;36mpandas._libs.hashtable.PyObjectHashTable.get_item\u001b[0;34m()\u001b[0m\n",
      "\u001b[0;31mKeyError\u001b[0m: 'average_mileage'",
      "\nThe above exception was the direct cause of the following exception:\n",
      "\u001b[0;31mKeyError\u001b[0m                                  Traceback (most recent call last)",
      "Cell \u001b[0;32mIn[28], line 4\u001b[0m\n\u001b[1;32m      1\u001b[0m mpg_df \u001b[38;5;241m=\u001b[39m data(\u001b[38;5;124m'\u001b[39m\u001b[38;5;124mmpg\u001b[39m\u001b[38;5;124m'\u001b[39m)\n\u001b[1;32m      3\u001b[0m dodge_df \u001b[38;5;241m=\u001b[39m mpg_df[mpg_df[\u001b[38;5;124m'\u001b[39m\u001b[38;5;124mmanufacturer\u001b[39m\u001b[38;5;124m'\u001b[39m] \u001b[38;5;241m==\u001b[39m \u001b[38;5;124m'\u001b[39m\u001b[38;5;124mdodge\u001b[39m\u001b[38;5;124m'\u001b[39m]\n\u001b[0;32m----> 4\u001b[0m max_mileage_dodge \u001b[38;5;241m=\u001b[39m dodge_df[\u001b[43mdodge_df\u001b[49m\u001b[43m[\u001b[49m\u001b[38;5;124;43m'\u001b[39;49m\u001b[38;5;124;43maverage_mileage\u001b[39;49m\u001b[38;5;124;43m'\u001b[39;49m\u001b[43m]\u001b[49m \u001b[38;5;241m==\u001b[39m dodge_df[\u001b[38;5;124m'\u001b[39m\u001b[38;5;124maverage_mileage\u001b[39m\u001b[38;5;124m'\u001b[39m]\u001b[38;5;241m.\u001b[39mmax()]\n",
      "File \u001b[0;32m/opt/homebrew/anaconda3/lib/python3.10/site-packages/pandas/core/frame.py:3807\u001b[0m, in \u001b[0;36mDataFrame.__getitem__\u001b[0;34m(self, key)\u001b[0m\n\u001b[1;32m   3805\u001b[0m \u001b[38;5;28;01mif\u001b[39;00m \u001b[38;5;28mself\u001b[39m\u001b[38;5;241m.\u001b[39mcolumns\u001b[38;5;241m.\u001b[39mnlevels \u001b[38;5;241m>\u001b[39m \u001b[38;5;241m1\u001b[39m:\n\u001b[1;32m   3806\u001b[0m     \u001b[38;5;28;01mreturn\u001b[39;00m \u001b[38;5;28mself\u001b[39m\u001b[38;5;241m.\u001b[39m_getitem_multilevel(key)\n\u001b[0;32m-> 3807\u001b[0m indexer \u001b[38;5;241m=\u001b[39m \u001b[38;5;28;43mself\u001b[39;49m\u001b[38;5;241;43m.\u001b[39;49m\u001b[43mcolumns\u001b[49m\u001b[38;5;241;43m.\u001b[39;49m\u001b[43mget_loc\u001b[49m\u001b[43m(\u001b[49m\u001b[43mkey\u001b[49m\u001b[43m)\u001b[49m\n\u001b[1;32m   3808\u001b[0m \u001b[38;5;28;01mif\u001b[39;00m is_integer(indexer):\n\u001b[1;32m   3809\u001b[0m     indexer \u001b[38;5;241m=\u001b[39m [indexer]\n",
      "File \u001b[0;32m/opt/homebrew/anaconda3/lib/python3.10/site-packages/pandas/core/indexes/base.py:3804\u001b[0m, in \u001b[0;36mIndex.get_loc\u001b[0;34m(self, key, method, tolerance)\u001b[0m\n\u001b[1;32m   3802\u001b[0m     \u001b[38;5;28;01mreturn\u001b[39;00m \u001b[38;5;28mself\u001b[39m\u001b[38;5;241m.\u001b[39m_engine\u001b[38;5;241m.\u001b[39mget_loc(casted_key)\n\u001b[1;32m   3803\u001b[0m \u001b[38;5;28;01mexcept\u001b[39;00m \u001b[38;5;167;01mKeyError\u001b[39;00m \u001b[38;5;28;01mas\u001b[39;00m err:\n\u001b[0;32m-> 3804\u001b[0m     \u001b[38;5;28;01mraise\u001b[39;00m \u001b[38;5;167;01mKeyError\u001b[39;00m(key) \u001b[38;5;28;01mfrom\u001b[39;00m \u001b[38;5;21;01merr\u001b[39;00m\n\u001b[1;32m   3805\u001b[0m \u001b[38;5;28;01mexcept\u001b[39;00m \u001b[38;5;167;01mTypeError\u001b[39;00m:\n\u001b[1;32m   3806\u001b[0m     \u001b[38;5;66;03m# If we have a listlike key, _check_indexing_error will raise\u001b[39;00m\n\u001b[1;32m   3807\u001b[0m     \u001b[38;5;66;03m#  InvalidIndexError. Otherwise we fall through and re-raise\u001b[39;00m\n\u001b[1;32m   3808\u001b[0m     \u001b[38;5;66;03m#  the TypeError.\u001b[39;00m\n\u001b[1;32m   3809\u001b[0m     \u001b[38;5;28mself\u001b[39m\u001b[38;5;241m.\u001b[39m_check_indexing_error(key)\n",
      "\u001b[0;31mKeyError\u001b[0m: 'average_mileage'"
     ]
    }
   ],
   "source": [
    "mpg_df = data('mpg')\n",
    "dodge_df = mpg_df[mpg_df['manufacturer'] == 'dodge']\n",
    "max_mileage_dodge = dodge_df[dodge_df['average_mileage'] == dodge_df['average_mileage'].max()]\n"
   ]
  },
  {
   "cell_type": "markdown",
   "id": "6d9b4d4d",
   "metadata": {},
   "source": [
    "Which compact class car has the lowest highway mileage? The best?"
   ]
  },
  {
   "cell_type": "code",
   "execution_count": 20,
   "id": "adc0a9cf",
   "metadata": {},
   "outputs": [
    {
     "data": {
      "text/html": [
       "<div>\n",
       "<style scoped>\n",
       "    .dataframe tbody tr th:only-of-type {\n",
       "        vertical-align: middle;\n",
       "    }\n",
       "\n",
       "    .dataframe tbody tr th {\n",
       "        vertical-align: top;\n",
       "    }\n",
       "\n",
       "    .dataframe thead th {\n",
       "        text-align: right;\n",
       "    }\n",
       "</style>\n",
       "<table border=\"1\" class=\"dataframe\">\n",
       "  <thead>\n",
       "    <tr style=\"text-align: right;\">\n",
       "      <th></th>\n",
       "      <th>manufacturer</th>\n",
       "      <th>model</th>\n",
       "      <th>displ</th>\n",
       "      <th>year</th>\n",
       "      <th>cyl</th>\n",
       "      <th>trans</th>\n",
       "      <th>drv</th>\n",
       "      <th>city</th>\n",
       "      <th>highway</th>\n",
       "      <th>fl</th>\n",
       "      <th>class</th>\n",
       "      <th>mileage_difference</th>\n",
       "    </tr>\n",
       "  </thead>\n",
       "  <tbody>\n",
       "    <tr>\n",
       "      <th>220</th>\n",
       "      <td>volkswagen</td>\n",
       "      <td>jetta</td>\n",
       "      <td>2.8</td>\n",
       "      <td>1999</td>\n",
       "      <td>6</td>\n",
       "      <td>auto(l4)</td>\n",
       "      <td>f</td>\n",
       "      <td>16</td>\n",
       "      <td>23</td>\n",
       "      <td>r</td>\n",
       "      <td>compact</td>\n",
       "      <td>7</td>\n",
       "    </tr>\n",
       "  </tbody>\n",
       "</table>\n",
       "</div>"
      ],
      "text/plain": [
       "    manufacturer  model  displ  year  cyl     trans drv  city  highway fl  \\\n",
       "220   volkswagen  jetta    2.8  1999    6  auto(l4)   f    16       23  r   \n",
       "\n",
       "       class  mileage_difference  \n",
       "220  compact                   7  "
      ]
     },
     "execution_count": 20,
     "metadata": {},
     "output_type": "execute_result"
    }
   ],
   "source": [
    "df_compact = mpg_df[mpg_df['class'] == 'compact']\n",
    "df_compact[df_compact['highway'] == df_compact['highway'].min()]"
   ]
  },
  {
   "cell_type": "code",
   "execution_count": 21,
   "id": "b26ee66c",
   "metadata": {},
   "outputs": [
    {
     "data": {
      "text/html": [
       "<div>\n",
       "<style scoped>\n",
       "    .dataframe tbody tr th:only-of-type {\n",
       "        vertical-align: middle;\n",
       "    }\n",
       "\n",
       "    .dataframe tbody tr th {\n",
       "        vertical-align: top;\n",
       "    }\n",
       "\n",
       "    .dataframe thead th {\n",
       "        text-align: right;\n",
       "    }\n",
       "</style>\n",
       "<table border=\"1\" class=\"dataframe\">\n",
       "  <thead>\n",
       "    <tr style=\"text-align: right;\">\n",
       "      <th></th>\n",
       "      <th>manufacturer</th>\n",
       "      <th>model</th>\n",
       "      <th>displ</th>\n",
       "      <th>year</th>\n",
       "      <th>cyl</th>\n",
       "      <th>trans</th>\n",
       "      <th>drv</th>\n",
       "      <th>city</th>\n",
       "      <th>highway</th>\n",
       "      <th>fl</th>\n",
       "      <th>class</th>\n",
       "      <th>mileage_difference</th>\n",
       "    </tr>\n",
       "  </thead>\n",
       "  <tbody>\n",
       "    <tr>\n",
       "      <th>213</th>\n",
       "      <td>volkswagen</td>\n",
       "      <td>jetta</td>\n",
       "      <td>1.9</td>\n",
       "      <td>1999</td>\n",
       "      <td>4</td>\n",
       "      <td>manual(m5)</td>\n",
       "      <td>f</td>\n",
       "      <td>33</td>\n",
       "      <td>44</td>\n",
       "      <td>d</td>\n",
       "      <td>compact</td>\n",
       "      <td>11</td>\n",
       "    </tr>\n",
       "  </tbody>\n",
       "</table>\n",
       "</div>"
      ],
      "text/plain": [
       "    manufacturer  model  displ  year  cyl       trans drv  city  highway fl  \\\n",
       "213   volkswagen  jetta    1.9  1999    4  manual(m5)   f    33       44  d   \n",
       "\n",
       "       class  mileage_difference  \n",
       "213  compact                  11  "
      ]
     },
     "execution_count": 21,
     "metadata": {},
     "output_type": "execute_result"
    }
   ],
   "source": [
    "df_compact[df_compact['highway'] == df_compact['highway'].max()]"
   ]
  },
  {
   "cell_type": "markdown",
   "id": "ac20f56e",
   "metadata": {},
   "source": [
    "Create a column named average_mileage that is the mean of the city and highway mileage."
   ]
  },
  {
   "cell_type": "code",
   "execution_count": 22,
   "id": "f516e4f6",
   "metadata": {},
   "outputs": [
    {
     "data": {
      "text/html": [
       "<div>\n",
       "<style scoped>\n",
       "    .dataframe tbody tr th:only-of-type {\n",
       "        vertical-align: middle;\n",
       "    }\n",
       "\n",
       "    .dataframe tbody tr th {\n",
       "        vertical-align: top;\n",
       "    }\n",
       "\n",
       "    .dataframe thead th {\n",
       "        text-align: right;\n",
       "    }\n",
       "</style>\n",
       "<table border=\"1\" class=\"dataframe\">\n",
       "  <thead>\n",
       "    <tr style=\"text-align: right;\">\n",
       "      <th></th>\n",
       "      <th>manufacturer</th>\n",
       "      <th>model</th>\n",
       "      <th>displ</th>\n",
       "      <th>year</th>\n",
       "      <th>cyl</th>\n",
       "      <th>trans</th>\n",
       "      <th>drv</th>\n",
       "      <th>city</th>\n",
       "      <th>highway</th>\n",
       "      <th>fl</th>\n",
       "      <th>class</th>\n",
       "      <th>mileage_difference</th>\n",
       "      <th>average_mileage</th>\n",
       "    </tr>\n",
       "  </thead>\n",
       "  <tbody>\n",
       "    <tr>\n",
       "      <th>1</th>\n",
       "      <td>audi</td>\n",
       "      <td>a4</td>\n",
       "      <td>1.8</td>\n",
       "      <td>1999</td>\n",
       "      <td>4</td>\n",
       "      <td>auto(l5)</td>\n",
       "      <td>f</td>\n",
       "      <td>18</td>\n",
       "      <td>29</td>\n",
       "      <td>p</td>\n",
       "      <td>compact</td>\n",
       "      <td>11</td>\n",
       "      <td>23.5</td>\n",
       "    </tr>\n",
       "    <tr>\n",
       "      <th>2</th>\n",
       "      <td>audi</td>\n",
       "      <td>a4</td>\n",
       "      <td>1.8</td>\n",
       "      <td>1999</td>\n",
       "      <td>4</td>\n",
       "      <td>manual(m5)</td>\n",
       "      <td>f</td>\n",
       "      <td>21</td>\n",
       "      <td>29</td>\n",
       "      <td>p</td>\n",
       "      <td>compact</td>\n",
       "      <td>8</td>\n",
       "      <td>25.0</td>\n",
       "    </tr>\n",
       "    <tr>\n",
       "      <th>3</th>\n",
       "      <td>audi</td>\n",
       "      <td>a4</td>\n",
       "      <td>2.0</td>\n",
       "      <td>2008</td>\n",
       "      <td>4</td>\n",
       "      <td>manual(m6)</td>\n",
       "      <td>f</td>\n",
       "      <td>20</td>\n",
       "      <td>31</td>\n",
       "      <td>p</td>\n",
       "      <td>compact</td>\n",
       "      <td>11</td>\n",
       "      <td>25.5</td>\n",
       "    </tr>\n",
       "    <tr>\n",
       "      <th>4</th>\n",
       "      <td>audi</td>\n",
       "      <td>a4</td>\n",
       "      <td>2.0</td>\n",
       "      <td>2008</td>\n",
       "      <td>4</td>\n",
       "      <td>auto(av)</td>\n",
       "      <td>f</td>\n",
       "      <td>21</td>\n",
       "      <td>30</td>\n",
       "      <td>p</td>\n",
       "      <td>compact</td>\n",
       "      <td>9</td>\n",
       "      <td>25.5</td>\n",
       "    </tr>\n",
       "    <tr>\n",
       "      <th>5</th>\n",
       "      <td>audi</td>\n",
       "      <td>a4</td>\n",
       "      <td>2.8</td>\n",
       "      <td>1999</td>\n",
       "      <td>6</td>\n",
       "      <td>auto(l5)</td>\n",
       "      <td>f</td>\n",
       "      <td>16</td>\n",
       "      <td>26</td>\n",
       "      <td>p</td>\n",
       "      <td>compact</td>\n",
       "      <td>10</td>\n",
       "      <td>21.0</td>\n",
       "    </tr>\n",
       "  </tbody>\n",
       "</table>\n",
       "</div>"
      ],
      "text/plain": [
       "  manufacturer model  displ  year  cyl       trans drv  city  highway fl  \\\n",
       "1         audi    a4    1.8  1999    4    auto(l5)   f    18       29  p   \n",
       "2         audi    a4    1.8  1999    4  manual(m5)   f    21       29  p   \n",
       "3         audi    a4    2.0  2008    4  manual(m6)   f    20       31  p   \n",
       "4         audi    a4    2.0  2008    4    auto(av)   f    21       30  p   \n",
       "5         audi    a4    2.8  1999    6    auto(l5)   f    16       26  p   \n",
       "\n",
       "     class  mileage_difference  average_mileage  \n",
       "1  compact                  11             23.5  \n",
       "2  compact                   8             25.0  \n",
       "3  compact                  11             25.5  \n",
       "4  compact                   9             25.5  \n",
       "5  compact                  10             21.0  "
      ]
     },
     "execution_count": 22,
     "metadata": {},
     "output_type": "execute_result"
    }
   ],
   "source": [
    "mpg_df['average_mileage'] = (mpg_df['city'] + mpg_df['highway']) / 2\n",
    "mpg_df.head()"
   ]
  },
  {
   "cell_type": "markdown",
   "id": "2d1c06c8",
   "metadata": {},
   "source": [
    "Which dodge car has the best average mileage? The worst?"
   ]
  },
  {
   "cell_type": "code",
   "execution_count": 23,
   "id": "5208a7aa",
   "metadata": {},
   "outputs": [
    {
     "data": {
      "text/html": [
       "<div>\n",
       "<style scoped>\n",
       "    .dataframe tbody tr th:only-of-type {\n",
       "        vertical-align: middle;\n",
       "    }\n",
       "\n",
       "    .dataframe tbody tr th {\n",
       "        vertical-align: top;\n",
       "    }\n",
       "\n",
       "    .dataframe thead th {\n",
       "        text-align: right;\n",
       "    }\n",
       "</style>\n",
       "<table border=\"1\" class=\"dataframe\">\n",
       "  <thead>\n",
       "    <tr style=\"text-align: right;\">\n",
       "      <th></th>\n",
       "      <th>manufacturer</th>\n",
       "      <th>model</th>\n",
       "      <th>displ</th>\n",
       "      <th>year</th>\n",
       "      <th>cyl</th>\n",
       "      <th>trans</th>\n",
       "      <th>drv</th>\n",
       "      <th>city</th>\n",
       "      <th>highway</th>\n",
       "      <th>fl</th>\n",
       "      <th>class</th>\n",
       "      <th>mileage_difference</th>\n",
       "      <th>average_mileage</th>\n",
       "    </tr>\n",
       "  </thead>\n",
       "  <tbody>\n",
       "    <tr>\n",
       "      <th>38</th>\n",
       "      <td>dodge</td>\n",
       "      <td>caravan 2wd</td>\n",
       "      <td>2.4</td>\n",
       "      <td>1999</td>\n",
       "      <td>4</td>\n",
       "      <td>auto(l3)</td>\n",
       "      <td>f</td>\n",
       "      <td>18</td>\n",
       "      <td>24</td>\n",
       "      <td>r</td>\n",
       "      <td>minivan</td>\n",
       "      <td>6</td>\n",
       "      <td>21.0</td>\n",
       "    </tr>\n",
       "  </tbody>\n",
       "</table>\n",
       "</div>"
      ],
      "text/plain": [
       "   manufacturer        model  displ  year  cyl     trans drv  city  highway  \\\n",
       "38        dodge  caravan 2wd    2.4  1999    4  auto(l3)   f    18       24   \n",
       "\n",
       "   fl    class  mileage_difference  average_mileage  \n",
       "38  r  minivan                   6             21.0  "
      ]
     },
     "execution_count": 23,
     "metadata": {},
     "output_type": "execute_result"
    }
   ],
   "source": [
    "dodge_df = mpg_df[mpg_df['manufacturer'] == 'dodge']\n",
    "dodge_df[dodge_df['average_mileage'] == dodge_df['average_mileage'].max()]"
   ]
  },
  {
   "cell_type": "code",
   "execution_count": 24,
   "id": "19269ae3",
   "metadata": {},
   "outputs": [
    {
     "data": {
      "text/html": [
       "<div>\n",
       "<style scoped>\n",
       "    .dataframe tbody tr th:only-of-type {\n",
       "        vertical-align: middle;\n",
       "    }\n",
       "\n",
       "    .dataframe tbody tr th {\n",
       "        vertical-align: top;\n",
       "    }\n",
       "\n",
       "    .dataframe thead th {\n",
       "        text-align: right;\n",
       "    }\n",
       "</style>\n",
       "<table border=\"1\" class=\"dataframe\">\n",
       "  <thead>\n",
       "    <tr style=\"text-align: right;\">\n",
       "      <th></th>\n",
       "      <th>manufacturer</th>\n",
       "      <th>model</th>\n",
       "      <th>displ</th>\n",
       "      <th>year</th>\n",
       "      <th>cyl</th>\n",
       "      <th>trans</th>\n",
       "      <th>drv</th>\n",
       "      <th>city</th>\n",
       "      <th>highway</th>\n",
       "      <th>fl</th>\n",
       "      <th>class</th>\n",
       "      <th>mileage_difference</th>\n",
       "      <th>average_mileage</th>\n",
       "    </tr>\n",
       "  </thead>\n",
       "  <tbody>\n",
       "    <tr>\n",
       "      <th>55</th>\n",
       "      <td>dodge</td>\n",
       "      <td>dakota pickup 4wd</td>\n",
       "      <td>4.7</td>\n",
       "      <td>2008</td>\n",
       "      <td>8</td>\n",
       "      <td>auto(l5)</td>\n",
       "      <td>4</td>\n",
       "      <td>9</td>\n",
       "      <td>12</td>\n",
       "      <td>e</td>\n",
       "      <td>pickup</td>\n",
       "      <td>3</td>\n",
       "      <td>10.5</td>\n",
       "    </tr>\n",
       "    <tr>\n",
       "      <th>60</th>\n",
       "      <td>dodge</td>\n",
       "      <td>durango 4wd</td>\n",
       "      <td>4.7</td>\n",
       "      <td>2008</td>\n",
       "      <td>8</td>\n",
       "      <td>auto(l5)</td>\n",
       "      <td>4</td>\n",
       "      <td>9</td>\n",
       "      <td>12</td>\n",
       "      <td>e</td>\n",
       "      <td>suv</td>\n",
       "      <td>3</td>\n",
       "      <td>10.5</td>\n",
       "    </tr>\n",
       "    <tr>\n",
       "      <th>66</th>\n",
       "      <td>dodge</td>\n",
       "      <td>ram 1500 pickup 4wd</td>\n",
       "      <td>4.7</td>\n",
       "      <td>2008</td>\n",
       "      <td>8</td>\n",
       "      <td>auto(l5)</td>\n",
       "      <td>4</td>\n",
       "      <td>9</td>\n",
       "      <td>12</td>\n",
       "      <td>e</td>\n",
       "      <td>pickup</td>\n",
       "      <td>3</td>\n",
       "      <td>10.5</td>\n",
       "    </tr>\n",
       "    <tr>\n",
       "      <th>70</th>\n",
       "      <td>dodge</td>\n",
       "      <td>ram 1500 pickup 4wd</td>\n",
       "      <td>4.7</td>\n",
       "      <td>2008</td>\n",
       "      <td>8</td>\n",
       "      <td>manual(m6)</td>\n",
       "      <td>4</td>\n",
       "      <td>9</td>\n",
       "      <td>12</td>\n",
       "      <td>e</td>\n",
       "      <td>pickup</td>\n",
       "      <td>3</td>\n",
       "      <td>10.5</td>\n",
       "    </tr>\n",
       "  </tbody>\n",
       "</table>\n",
       "</div>"
      ],
      "text/plain": [
       "   manufacturer                model  displ  year  cyl       trans drv  city  \\\n",
       "55        dodge    dakota pickup 4wd    4.7  2008    8    auto(l5)   4     9   \n",
       "60        dodge          durango 4wd    4.7  2008    8    auto(l5)   4     9   \n",
       "66        dodge  ram 1500 pickup 4wd    4.7  2008    8    auto(l5)   4     9   \n",
       "70        dodge  ram 1500 pickup 4wd    4.7  2008    8  manual(m6)   4     9   \n",
       "\n",
       "    highway fl   class  mileage_difference  average_mileage  \n",
       "55       12  e  pickup                   3             10.5  \n",
       "60       12  e     suv                   3             10.5  \n",
       "66       12  e  pickup                   3             10.5  \n",
       "70       12  e  pickup                   3             10.5  "
      ]
     },
     "execution_count": 24,
     "metadata": {},
     "output_type": "execute_result"
    }
   ],
   "source": [
    "dodge_df[dodge_df['average_mileage'] == dodge_df['average_mileage'].min()]"
   ]
  },
  {
   "cell_type": "markdown",
   "id": "dab87186",
   "metadata": {},
   "source": [
    "Load the Mammals dataset. Read the documentation for it, and use the data to answer these questions:"
   ]
  },
  {
   "cell_type": "code",
   "execution_count": 25,
   "id": "f334f400",
   "metadata": {},
   "outputs": [
    {
     "name": "stdout",
     "output_type": "stream",
     "text": [
      "Mammals\n",
      "\n",
      "PyDataset Documentation (adopted from R Documentation. The displayed examples are in R)\n",
      "\n",
      "## Garland(1983) Data on Running Speed of Mammals\n",
      "\n",
      "### Description\n",
      "\n",
      "Observations on the maximal running speed of mammal species and their body\n",
      "mass.\n",
      "\n",
      "### Usage\n",
      "\n",
      "    data(Mammals)\n",
      "\n",
      "### Format\n",
      "\n",
      "A data frame with 107 observations on the following 4 variables.\n",
      "\n",
      "weight\n",
      "\n",
      "Body mass in Kg for \"typical adult sizes\"\n",
      "\n",
      "speed\n",
      "\n",
      "Maximal running speed (fastest sprint velocity on record)\n",
      "\n",
      "hoppers\n",
      "\n",
      "logical variable indicating animals that ambulate by hopping, e.g. kangaroos\n",
      "\n",
      "specials\n",
      "\n",
      "logical variable indicating special animals with \"lifestyles in which speed\n",
      "does not figure as an important factor\": Hippopotamus, raccoon (Procyon),\n",
      "badger (Meles), coati (Nasua), skunk (Mephitis), man (Homo), porcupine\n",
      "(Erithizon), oppossum (didelphis), and sloth (Bradypus)\n",
      "\n",
      "### Details\n",
      "\n",
      "Used by Chappell (1989) and Koenker, Ng and Portnoy (1994) to illustrate the\n",
      "fitting of piecewise linear curves.\n",
      "\n",
      "### Source\n",
      "\n",
      "Garland, T. (1983) The relation between maximal running speed and body mass in\n",
      "terrestrial mammals, _J. Zoology_, 199, 1557-1570.\n",
      "\n",
      "### References\n",
      "\n",
      "Koenker, R., P. Ng and S. Portnoy, (1994) Quantile Smoothing Splines”\n",
      "_Biometrika_, 81, 673-680.\n",
      "\n",
      "Chappell, R. (1989) Fitting Bent Lines to Data, with Applications ot\n",
      "Allometry, _J. Theo. Biology_, 138, 235-256.\n",
      "\n",
      "### See Also\n",
      "\n",
      "`rqss`\n",
      "\n",
      "### Examples\n",
      "\n",
      "    data(Mammals)\n",
      "    attach(Mammals)\n",
      "    x <- log(weight)\n",
      "    y <- log(speed)\n",
      "    plot(x,y, xlab=\"Weight in log(Kg)\", ylab=\"Speed in log(Km/hour)\",type=\"n\")\n",
      "    points(x[hoppers],y[hoppers],pch = \"h\", col=\"red\")\n",
      "    points(x[specials],y[specials],pch = \"s\", col=\"blue\")\n",
      "    others <- (!hoppers & !specials)\n",
      "    points(x[others],y[others], col=\"black\",cex = .75)\n",
      "    fit <- rqss(y ~ qss(x, lambda = 1),tau = .9)\n",
      "    plot(fit)\n",
      "\n",
      "\n"
     ]
    }
   ],
   "source": [
    "data('Mammals', show_doc = True)"
   ]
  },
  {
   "cell_type": "markdown",
   "id": "db171771",
   "metadata": {},
   "source": [
    "How many rows and columns are there?"
   ]
  },
  {
   "cell_type": "code",
   "execution_count": 26,
   "id": "cd68c37d",
   "metadata": {},
   "outputs": [
    {
     "name": "stdout",
     "output_type": "stream",
     "text": [
      "(107, 4)\n"
     ]
    }
   ],
   "source": [
    "mammals_df = data('Mammals')\n",
    "print(mammals_df.shape)"
   ]
  },
  {
   "cell_type": "markdown",
   "id": "d1823f69",
   "metadata": {},
   "source": [
    "What are the data types?"
   ]
  },
  {
   "cell_type": "code",
   "execution_count": 27,
   "id": "7e10f68b",
   "metadata": {},
   "outputs": [
    {
     "data": {
      "text/plain": [
       "weight      float64\n",
       "speed       float64\n",
       "hoppers        bool\n",
       "specials       bool\n",
       "dtype: object"
      ]
     },
     "execution_count": 27,
     "metadata": {},
     "output_type": "execute_result"
    }
   ],
   "source": [
    "mammals_df.dtypes"
   ]
  },
  {
   "cell_type": "markdown",
   "id": "bbbc319e",
   "metadata": {},
   "source": [
    "Summarize the dataframe with .info and .describe"
   ]
  },
  {
   "cell_type": "code",
   "execution_count": null,
   "id": "fcfb0cf5",
   "metadata": {},
   "outputs": [],
   "source": [
    "mammals_df.info()"
   ]
  },
  {
   "cell_type": "code",
   "execution_count": null,
   "id": "2200dd90",
   "metadata": {},
   "outputs": [],
   "source": [
    "mammals_df.describe()"
   ]
  },
  {
   "cell_type": "markdown",
   "id": "d23f3b87",
   "metadata": {},
   "source": [
    "What is the the weight of the fastest animal?"
   ]
  },
  {
   "cell_type": "code",
   "execution_count": null,
   "id": "29df38f1",
   "metadata": {},
   "outputs": [],
   "source": [
    "mammals_df = data('Mammals')\n",
    "fastest_speed = mammals_df['speed'].max()\n",
    "fastest_animal_weight = mammals_df.loc[mammals_df['speed'] == fastest_speed, 'weight'].values[0]\n",
    "print(fastest_animal_weight)"
   ]
  },
  {
   "cell_type": "markdown",
   "id": "a55ffa34",
   "metadata": {},
   "source": [
    "What is the overal percentage of specials?"
   ]
  },
  {
   "cell_type": "code",
   "execution_count": null,
   "id": "9cfea4e7",
   "metadata": {},
   "outputs": [],
   "source": [
    "mammals_df = data('Mammals')\n",
    "total_count = len(mammals_df)\n",
    "specials_count = len(mammals_df[mammals_df['specials']])\n",
    "percentage_specials = (specials_count / total_count) * 100\n",
    "print(percentage_specials)"
   ]
  },
  {
   "cell_type": "code",
   "execution_count": null,
   "id": "a4d808c8",
   "metadata": {},
   "outputs": [],
   "source": [
    "#another way\n",
    "mammals_df['specials'].value_counts(normalize=True)"
   ]
  },
  {
   "cell_type": "markdown",
   "id": "85134add",
   "metadata": {},
   "source": [
    "How many animals are hoppers that are above the median speed? What percentage is this?"
   ]
  },
  {
   "cell_type": "code",
   "execution_count": null,
   "id": "cab439ae",
   "metadata": {},
   "outputs": [],
   "source": [
    "above_avg_spd = mammals_df[mammals_df['speed'] > mammals_df['speed'].median()]\n",
    "above_avg_spd[above_avg_spd['hoppers'] == True]"
   ]
  },
  {
   "cell_type": "code",
   "execution_count": null,
   "id": "2fa6727e",
   "metadata": {},
   "outputs": [],
   "source": [
    "above_avg_spd['hoppers'].value_counts(normalize = True)"
   ]
  }
 ],
 "metadata": {
  "kernelspec": {
   "display_name": "Python 3 (ipykernel)",
   "language": "python",
   "name": "python3"
  },
  "language_info": {
   "codemirror_mode": {
    "name": "ipython",
    "version": 3
   },
   "file_extension": ".py",
   "mimetype": "text/x-python",
   "name": "python",
   "nbconvert_exporter": "python",
   "pygments_lexer": "ipython3",
   "version": "3.10.9"
  }
 },
 "nbformat": 4,
 "nbformat_minor": 5
}
