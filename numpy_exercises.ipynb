{
 "cells": [
  {
   "cell_type": "markdown",
   "id": "37a464f7",
   "metadata": {},
   "source": [
    "## numpy\n",
    "\n",
    "Use the following code for the questions below:"
   ]
  },
  {
   "cell_type": "code",
   "execution_count": 1,
   "id": "01bb48fd",
   "metadata": {},
   "outputs": [],
   "source": [
    "import numpy  as np\n",
    "a = np.array([4, 10, 12, 23, -2, -1, 0, 0, 0, -6, 3, -7])"
   ]
  },
  {
   "cell_type": "markdown",
   "id": "3708ae2a",
   "metadata": {},
   "source": [
    "1. How many negative numbers are there?"
   ]
  },
  {
   "cell_type": "code",
   "execution_count": 2,
   "id": "042ff899",
   "metadata": {},
   "outputs": [
    {
     "data": {
      "text/plain": [
       "4"
      ]
     },
     "execution_count": 2,
     "metadata": {},
     "output_type": "execute_result"
    }
   ],
   "source": [
    "len(a[a<0])"
   ]
  },
  {
   "cell_type": "markdown",
   "id": "e86dc4ab",
   "metadata": {},
   "source": [
    "2. How many positive numbers are there?"
   ]
  },
  {
   "cell_type": "code",
   "execution_count": 3,
   "id": "14a8491f",
   "metadata": {},
   "outputs": [
    {
     "data": {
      "text/plain": [
       "5"
      ]
     },
     "execution_count": 3,
     "metadata": {},
     "output_type": "execute_result"
    }
   ],
   "source": [
    "len(a[a>0])"
   ]
  },
  {
   "cell_type": "markdown",
   "id": "315dfe0d",
   "metadata": {},
   "source": [
    "3. How many even positive numbers are there?"
   ]
  },
  {
   "cell_type": "code",
   "execution_count": 4,
   "id": "b734fa56",
   "metadata": {},
   "outputs": [
    {
     "data": {
      "text/plain": [
       "8"
      ]
     },
     "execution_count": 4,
     "metadata": {},
     "output_type": "execute_result"
    }
   ],
   "source": [
    "len(a[(a%2)==0]), even[even>0]"
   ]
  },
  {
   "cell_type": "markdown",
   "id": "ef15f6fe",
   "metadata": {},
   "source": [
    "4. If you were to add 3 to each data point, how many positive numbers would there be?"
   ]
  },
  {
   "cell_type": "code",
   "execution_count": 5,
   "id": "41a95faf",
   "metadata": {},
   "outputs": [
    {
     "data": {
      "text/plain": [
       "10"
      ]
     },
     "execution_count": 5,
     "metadata": {},
     "output_type": "execute_result"
    }
   ],
   "source": [
    "# b = [a + 3]\n",
    "# len(b[(b%2)==0])\n",
    "\n",
    "len( a[((a + 3) > 0)])"
   ]
  },
  {
   "cell_type": "markdown",
   "id": "ae87ea90",
   "metadata": {},
   "source": [
    "5. If you squared each number, what would the new mean and standard deviation be?"
   ]
  },
  {
   "cell_type": "code",
   "execution_count": 6,
   "id": "3aef610e",
   "metadata": {},
   "outputs": [
    {
     "data": {
      "text/plain": [
       "(74.0, 144.0243035046516)"
      ]
     },
     "execution_count": 6,
     "metadata": {},
     "output_type": "execute_result"
    }
   ],
   "source": [
    " np.mean(a ** 2), np.std(a ** 2)"
   ]
  },
  {
   "cell_type": "markdown",
   "id": "f3b02f7d",
   "metadata": {},
   "source": [
    "6. A common statistical operation on a dataset is centering. This means to adjust the data such that the mean of the data is 0. This is done by subtracting the mean from each data point. Center the data set. See this link for more on centering."
   ]
  },
  {
   "cell_type": "code",
   "execution_count": 7,
   "id": "ffe19f4c",
   "metadata": {},
   "outputs": [
    {
     "name": "stdout",
     "output_type": "stream",
     "text": [
      "3.0\n"
     ]
    }
   ],
   "source": [
    "mean_array = np.mean(a)\n",
    "print(mean_array)"
   ]
  },
  {
   "cell_type": "code",
   "execution_count": 8,
   "id": "bc0f76b5",
   "metadata": {},
   "outputs": [
    {
     "name": "stdout",
     "output_type": "stream",
     "text": [
      "[  1.   7.   9.  20.  -5.  -4.  -3.  -3.  -3.  -9.   0. -10.]\n"
     ]
    }
   ],
   "source": [
    "center_array = a - mean_array\n",
    "\n",
    "print (center_array)"
   ]
  },
  {
   "cell_type": "code",
   "execution_count": 9,
   "id": "19ddf681",
   "metadata": {},
   "outputs": [
    {
     "data": {
      "text/plain": [
       "0.0"
      ]
     },
     "execution_count": 9,
     "metadata": {},
     "output_type": "execute_result"
    }
   ],
   "source": [
    "np.mean(center_array)"
   ]
  },
  {
   "cell_type": "code",
   "execution_count": 10,
   "id": "937cdadf",
   "metadata": {},
   "outputs": [
    {
     "name": "stdout",
     "output_type": "stream",
     "text": [
      "[  1.   7.   9.  20.  -5.  -4.  -3.  -3.  -3.  -9.   0. -10.]\n"
     ]
    }
   ],
   "source": [
    "centered = (a - (np.mean(a)))\n",
    "print(centered)"
   ]
  },
  {
   "cell_type": "markdown",
   "id": "68c4d4fd",
   "metadata": {},
   "source": [
    "7. Calculate the z-score for each data point. Recall that the z-score is given by:"
   ]
  },
  {
   "cell_type": "code",
   "execution_count": 11,
   "id": "ed18e45e",
   "metadata": {},
   "outputs": [
    {
     "data": {
      "text/plain": [
       "array([ 0.12403473,  0.86824314,  1.11631261,  2.48069469, -0.62017367,\n",
       "       -0.49613894, -0.3721042 , -0.3721042 , -0.3721042 , -1.11631261,\n",
       "        0.        , -1.24034735])"
      ]
     },
     "execution_count": 11,
     "metadata": {},
     "output_type": "execute_result"
    }
   ],
   "source": [
    "import scipy.stats as stats\n",
    "stats.zscore(a)"
   ]
  },
  {
   "cell_type": "code",
   "execution_count": null,
   "id": "a623a8ba",
   "metadata": {},
   "outputs": [],
   "source": [
    "#Teacher way!\n"
   ]
  },
  {
   "cell_type": "markdown",
   "id": "50f9966a",
   "metadata": {},
   "source": [
    "## More Numpy Practice"
   ]
  },
  {
   "cell_type": "markdown",
   "id": "2bdda247",
   "metadata": {},
   "source": [
    "### Life w/o numpy to life with numpy. Use python's built in functionality/operators to determine the following:"
   ]
  },
  {
   "cell_type": "markdown",
   "id": "d2be6c1a",
   "metadata": {},
   "source": [
    "#### Setup 1\n"
   ]
  },
  {
   "cell_type": "code",
   "execution_count": 12,
   "id": "da3cd6c9",
   "metadata": {},
   "outputs": [],
   "source": [
    "## Setup 1\n",
    "import math\n",
    "import statistics\n",
    "a = [1, 2, 3, 4, 5, 6, 7, 8, 9, 10]"
   ]
  },
  {
   "cell_type": "markdown",
   "id": "0e918e30",
   "metadata": {},
   "source": [
    "Exercise 1 - Make a variable called sum_of_a to hold the sum of all the numbers in above list\n"
   ]
  },
  {
   "cell_type": "code",
   "execution_count": 13,
   "id": "8758b8e2",
   "metadata": {},
   "outputs": [
    {
     "name": "stdout",
     "output_type": "stream",
     "text": [
      "55\n"
     ]
    }
   ],
   "source": [
    "sum_of_a = sum(a)\n",
    "print(sum_of_a) \n"
   ]
  },
  {
   "cell_type": "markdown",
   "id": "7baa0377",
   "metadata": {},
   "source": [
    "Exercise 2 - Make a variable named min_of_a to hold the minimum of all the numbers in the above list"
   ]
  },
  {
   "cell_type": "code",
   "execution_count": 14,
   "id": "51538f07",
   "metadata": {},
   "outputs": [
    {
     "name": "stdout",
     "output_type": "stream",
     "text": [
      "1\n"
     ]
    }
   ],
   "source": [
    "min_of_a = min(a)\n",
    "print(min_of_a)"
   ]
  },
  {
   "cell_type": "markdown",
   "id": "af78fd2b",
   "metadata": {},
   "source": [
    "Exercise 3 - Make a variable named max_of_a to hold the max number of all the numbers in the above list"
   ]
  },
  {
   "cell_type": "code",
   "execution_count": 15,
   "id": "075cbb57",
   "metadata": {},
   "outputs": [
    {
     "name": "stdout",
     "output_type": "stream",
     "text": [
      "10\n"
     ]
    }
   ],
   "source": [
    "max_of_a = max(a)\n",
    "print(max_of_a)"
   ]
  },
  {
   "cell_type": "markdown",
   "id": "27e254b6",
   "metadata": {},
   "source": [
    "Exercise 4 - Make a variable named mean_of_a to hold the average of all the numbers in the above list"
   ]
  },
  {
   "cell_type": "code",
   "execution_count": 17,
   "id": "e17de780",
   "metadata": {},
   "outputs": [
    {
     "name": "stdout",
     "output_type": "stream",
     "text": [
      "5.5\n"
     ]
    }
   ],
   "source": [
    "mean_of_a = statistics.mean(a)\n",
    "print(mean_of_a)"
   ]
  },
  {
   "cell_type": "markdown",
   "id": "92645f78",
   "metadata": {},
   "source": [
    "Exercise 5 - Make a variable named product_of_a to hold the product of multiplying all the numbers in the above list together\n"
   ]
  },
  {
   "cell_type": "code",
   "execution_count": 21,
   "id": "ef9c3d89",
   "metadata": {},
   "outputs": [
    {
     "name": "stdout",
     "output_type": "stream",
     "text": [
      "3628800\n"
     ]
    }
   ],
   "source": [
    "product_of_a = math.prod(a)\n",
    "print(product_of_a)"
   ]
  },
  {
   "cell_type": "markdown",
   "id": "52b9fc2d",
   "metadata": {},
   "source": [
    "Exercise 6 - Make a variable named squares_of_a. It should hold each number in a squared like [1, 4, 9, 16, 25...]"
   ]
  },
  {
   "cell_type": "code",
   "execution_count": 30,
   "id": "42a87655",
   "metadata": {},
   "outputs": [
    {
     "ename": "TypeError",
     "evalue": "map() must have at least two arguments.",
     "output_type": "error",
     "traceback": [
      "\u001b[0;31m---------------------------------------------------------------------------\u001b[0m",
      "\u001b[0;31mTypeError\u001b[0m                                 Traceback (most recent call last)",
      "Cell \u001b[0;32mIn[30], line 4\u001b[0m\n\u001b[1;32m      2\u001b[0m     \u001b[38;5;28;01mreturn\u001b[39;00m n\u001b[38;5;241m*\u001b[39m\u001b[38;5;241m*\u001b[39m \u001b[38;5;241m2\u001b[39m\n\u001b[1;32m      3\u001b[0m numbers \u001b[38;5;241m=\u001b[39m [\u001b[38;5;241m1\u001b[39m, \u001b[38;5;241m4\u001b[39m, \u001b[38;5;241m9\u001b[39m, \u001b[38;5;241m16\u001b[39m, \u001b[38;5;241m25\u001b[39m]\n\u001b[0;32m----> 4\u001b[0m squareda \u001b[38;5;241m=\u001b[39m \u001b[38;5;28;43mmap\u001b[39;49m\u001b[43m(\u001b[49m\u001b[43msquared_of_a\u001b[49m\u001b[43m)\u001b[49m\n",
      "\u001b[0;31mTypeError\u001b[0m: map() must have at least two arguments."
     ]
    }
   ],
   "source": [
    "def squared_of_a (n):\n",
    "    return n** 2\n",
    "numbers = [1, 4, 9, 16, 25]\n",
    "squareda = map(squared_of_a)"
   ]
  }
 ],
 "metadata": {
  "kernelspec": {
   "display_name": "Python 3 (ipykernel)",
   "language": "python",
   "name": "python3"
  },
  "language_info": {
   "codemirror_mode": {
    "name": "ipython",
    "version": 3
   },
   "file_extension": ".py",
   "mimetype": "text/x-python",
   "name": "python",
   "nbconvert_exporter": "python",
   "pygments_lexer": "ipython3",
   "version": "3.10.9"
  }
 },
 "nbformat": 4,
 "nbformat_minor": 5
}
