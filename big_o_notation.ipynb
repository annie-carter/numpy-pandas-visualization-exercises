{
 "cells": [
  {
   "cell_type": "code",
   "execution_count": 1,
   "id": "a8a96aac",
   "metadata": {},
   "outputs": [],
   "source": [
    "#import pyplot module as alias plt\n",
    "import matplotlib.pyplot as plt  \n",
    "\n",
    "#import other libraries \n",
    "import numpy as np\n",
    "import math\n",
    "from random import randint\n",
    "import random\n",
    "import pandas as pd\n"
   ]
  },
  {
   "cell_type": "code",
   "execution_count": 2,
   "id": "33e2f154",
   "metadata": {},
   "outputs": [
    {
     "name": "stdout",
     "output_type": "stream",
     "text": [
      "<module 'matplotlib.pyplot' from '/opt/homebrew/anaconda3/lib/python3.10/site-packages/matplotlib/pyplot.py'>\n"
     ]
    }
   ],
   "source": [
    "print(plt)"
   ]
  },
  {
   "cell_type": "markdown",
   "id": "2ed67920",
   "metadata": {},
   "source": [
    "5.Make a new Jupyter notebook named  .ipynb\n",
    "\n",
    "* Title your chart \"Big O Notation\"\n",
    "* Label your x axis \"Elements\"\n",
    "* Label your y axis \"Operations\"\n",
    "* Label your curves or make a legend for the curves\n",
    "* Use LaTex notation where possible\n",
    "\n",
    "#### Curves to graph\n",
    "\n",
    "* y=0n+1 and label the curve \"O(1)\"\n",
    "* y=log(n) and label the curve \"O(log n)\"\n",
    "* y=n and label the curve \"O(n)\"\n",
    "* y=n∗log(n) and label it \"O(n log n)\"\n",
    "* y=n**2 and label it \"O(n^2)\"\n",
    "* y=2n and label it \"O(2^n)\"\n",
    "* y=n! and label it \"O(n!)\"\n",
    "* y=n**n and label it \"O(n^n)\""
   ]
  },
  {
   "cell_type": "code",
   "execution_count": 8,
   "id": "6114b1e9",
   "metadata": {},
   "outputs": [
    {
     "ename": "NameError",
     "evalue": "name 'On' is not defined",
     "output_type": "error",
     "traceback": [
      "\u001b[0;31m---------------------------------------------------------------------------\u001b[0m",
      "\u001b[0;31mNameError\u001b[0m                                 Traceback (most recent call last)",
      "Cell \u001b[0;32mIn[8], line 2\u001b[0m\n\u001b[1;32m      1\u001b[0m x \u001b[38;5;241m=\u001b[39m np\u001b[38;5;241m.\u001b[39mlinspace(\u001b[38;5;241m-\u001b[39m\u001b[38;5;241m10\u001b[39m, \u001b[38;5;241m10\u001b[39m, \u001b[38;5;241m100\u001b[39m)\n\u001b[0;32m----> 2\u001b[0m plt\u001b[38;5;241m.\u001b[39mplot(\u001b[38;5;124m\"\u001b[39m\u001b[38;5;124mO(1)\u001b[39m\u001b[38;5;124m\"\u001b[39m, x, y\u001b[38;5;241m=\u001b[39m\u001b[43mOn\u001b[49m\u001b[38;5;241m+\u001b[39m\u001b[38;5;241m1\u001b[39m , color\u001b[38;5;241m=\u001b[39m \u001b[38;5;124m'\u001b[39m\u001b[38;5;124mpink\u001b[39m\u001b[38;5;124m'\u001b[39m, ls\u001b[38;5;241m=\u001b[39m\u001b[38;5;124m'\u001b[39m\u001b[38;5;124m--\u001b[39m\u001b[38;5;124m'\u001b[39m) \n\u001b[1;32m      3\u001b[0m \u001b[38;5;66;03m# y=log(n) and label the curve \"O(log n)\"\u001b[39;00m\n\u001b[1;32m      4\u001b[0m \u001b[38;5;66;03m# y=n and label the curve \"O(n)\"\u001b[39;00m\n\u001b[1;32m      5\u001b[0m \u001b[38;5;66;03m# y=n∗log(n) and label it \"O(n log n)\"\u001b[39;00m\n\u001b[0;32m   (...)\u001b[0m\n\u001b[1;32m     10\u001b[0m \n\u001b[1;32m     11\u001b[0m \u001b[38;5;66;03m# axs[1, 1].plot(x, y3, color='m',label='plot 4')\u001b[39;00m\n\u001b[1;32m     12\u001b[0m plt\u001b[38;5;241m.\u001b[39mset_xlabel(\u001b[38;5;124m'\u001b[39m\u001b[38;5;124mELements\u001b[39m\u001b[38;5;124m'\u001b[39m)\n",
      "\u001b[0;31mNameError\u001b[0m: name 'On' is not defined"
     ]
    }
   ],
   "source": [
    "x = np.linspace(-10, 10, 100)\n",
    "plt.plot(\"O(1)\", x, y=On+1 , color= 'pink', ls='--') \n",
    "# y=log(n) and label the curve \"O(log n)\"\n",
    "# y=n and label the curve \"O(n)\"\n",
    "# y=n∗log(n) and label it \"O(n log n)\"\n",
    "# y=n**2 and label it \"O(n^2)\"\n",
    "# y=2n and label it \"O(2^n)\"\n",
    "# y=n! and label it \"O(n!)\"\n",
    "# y=n**n and label it \"O(n^n)\"\n",
    "\n",
    "# axs[1, 1].plot(x, y3, color='m',label='plot 4')\n",
    "plt.set_xlabel('ELements')\n",
    "plt.set_ylabel('Operations')\n",
    "# axs[1, 1].set_title('Plot of y = 2x')\n",
    "\n",
    "\n",
    "fig.tight_layout()\n",
    "\n",
    "# Show the plot\n",
    "fig.legend(loc='outside upper right')\n",
    "plt.suptitle('Big O Notation')\n",
    "      # Adjust the spacing between subplots\n",
    "fig.tight_layout()\n",
    "plt.show()"
   ]
  }
 ],
 "metadata": {
  "kernelspec": {
   "display_name": "Python 3 (ipykernel)",
   "language": "python",
   "name": "python3"
  },
  "language_info": {
   "codemirror_mode": {
    "name": "ipython",
    "version": 3
   },
   "file_extension": ".py",
   "mimetype": "text/x-python",
   "name": "python",
   "nbconvert_exporter": "python",
   "pygments_lexer": "ipython3",
   "version": "3.10.9"
  }
 },
 "nbformat": 4,
 "nbformat_minor": 5
}
