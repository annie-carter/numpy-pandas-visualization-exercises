{
 "cells": [
  {
   "cell_type": "markdown",
   "id": "638e01fd",
   "metadata": {},
   "source": [
    "# 3 Exercises Part I"
   ]
  },
  {
   "cell_type": "markdown",
   "id": "307eb8fe",
   "metadata": {},
   "source": [
    "### Make a file named pandas_series.py or pandas_series.ipynb for the following exercises.\n",
    "\n",
    "Use pandas to create a Series named fruits from the following list:"
   ]
  },
  {
   "cell_type": "code",
   "execution_count": 1,
   "id": "32d12558",
   "metadata": {},
   "outputs": [],
   "source": [
    "import pandas as pd\n",
    "import numpy as np"
   ]
  },
  {
   "cell_type": "code",
   "execution_count": 3,
   "id": "134710eb",
   "metadata": {},
   "outputs": [],
   "source": [
    "fruits = pd.Series([\"kiwi\", \"mango\", \"strawberry\", \"pineapple\", \"gala apple\", \"honeycrisp apple\", \"tomato\", \"watermelon\", \"honeydew\", \"kiwi\", \"kiwi\", \"kiwi\", \"mango\", \"blueberry\", \"blackberry\", \"gooseberry\", \"papaya\"])"
   ]
  },
  {
   "cell_type": "markdown",
   "id": "8e2184aa",
   "metadata": {},
   "source": [
    " Use Series attributes and methods to explore your fruits Series."
   ]
  },
  {
   "cell_type": "markdown",
   "id": "71a75700",
   "metadata": {},
   "source": [
    "1. Determine the number of elements in fruits."
   ]
  },
  {
   "cell_type": "code",
   "execution_count": 4,
   "id": "208d9394",
   "metadata": {},
   "outputs": [
    {
     "data": {
      "text/plain": [
       "17"
      ]
     },
     "execution_count": 4,
     "metadata": {},
     "output_type": "execute_result"
    }
   ],
   "source": [
    "len(fruits)"
   ]
  },
  {
   "cell_type": "markdown",
   "id": "89a931d1",
   "metadata": {},
   "source": [
    "2. Output only the index from fruits."
   ]
  },
  {
   "cell_type": "code",
   "execution_count": 5,
   "id": "b577ed7c",
   "metadata": {},
   "outputs": [
    {
     "data": {
      "text/plain": [
       "[0, 1, 2, 3, 4, 5, 6, 7, 8, 9, 10, 11, 12, 13, 14, 15, 16]"
      ]
     },
     "execution_count": 5,
     "metadata": {},
     "output_type": "execute_result"
    }
   ],
   "source": [
    "list(fruits.index)\n"
   ]
  },
  {
   "cell_type": "markdown",
   "id": "366aed6a",
   "metadata": {},
   "source": [
    "4. Output only the values from fruits."
   ]
  },
  {
   "cell_type": "code",
   "execution_count": 7,
   "id": "72a6c04f",
   "metadata": {},
   "outputs": [
    {
     "data": {
      "text/plain": [
       "array(['kiwi', 'mango', 'strawberry', 'pineapple', 'gala apple',\n",
       "       'honeycrisp apple', 'tomato', 'watermelon', 'honeydew', 'kiwi',\n",
       "       'kiwi', 'kiwi', 'mango', 'blueberry', 'blackberry', 'gooseberry',\n",
       "       'papaya'], dtype=object)"
      ]
     },
     "execution_count": 7,
     "metadata": {},
     "output_type": "execute_result"
    }
   ],
   "source": [
    "fruits.values"
   ]
  },
  {
   "cell_type": "markdown",
   "id": "e2637c52",
   "metadata": {},
   "source": [
    "5. Confirm the data type of the values in fruits."
   ]
  },
  {
   "cell_type": "code",
   "execution_count": 8,
   "id": "20511767",
   "metadata": {},
   "outputs": [
    {
     "data": {
      "text/plain": [
       "dtype('O')"
      ]
     },
     "execution_count": 8,
     "metadata": {},
     "output_type": "execute_result"
    }
   ],
   "source": [
    "fruits.dtypes"
   ]
  },
  {
   "cell_type": "markdown",
   "id": "0f9d6a12",
   "metadata": {},
   "source": [
    "6. Output only the first five values from fruits. Output the last three values. Output two random values from fruits."
   ]
  },
  {
   "cell_type": "code",
   "execution_count": 11,
   "id": "65383ffc",
   "metadata": {},
   "outputs": [
    {
     "data": {
      "text/plain": [
       "0          kiwi\n",
       "1         mango\n",
       "2    strawberry\n",
       "3     pineapple\n",
       "4    gala apple\n",
       "dtype: object"
      ]
     },
     "execution_count": 11,
     "metadata": {},
     "output_type": "execute_result"
    }
   ],
   "source": [
    "fruits.head(5)"
   ]
  },
  {
   "cell_type": "markdown",
   "id": "098903c3",
   "metadata": {},
   "source": [
    "7. Run the .describe() on fruits to see what information it returns when called on a Series with string values."
   ]
  },
  {
   "cell_type": "code",
   "execution_count": 12,
   "id": "9793b822",
   "metadata": {},
   "outputs": [
    {
     "data": {
      "text/plain": [
       "count       17\n",
       "unique      13\n",
       "top       kiwi\n",
       "freq         4\n",
       "dtype: object"
      ]
     },
     "execution_count": 12,
     "metadata": {},
     "output_type": "execute_result"
    }
   ],
   "source": [
    "fruits.describe()"
   ]
  },
  {
   "cell_type": "markdown",
   "id": "1b7293af",
   "metadata": {},
   "source": [
    "8. Run the code necessary to produce only the unique string values from fruits."
   ]
  },
  {
   "cell_type": "code",
   "execution_count": 13,
   "id": "e75917e7",
   "metadata": {},
   "outputs": [
    {
     "data": {
      "text/plain": [
       "{'blackberry',\n",
       " 'blueberry',\n",
       " 'gala apple',\n",
       " 'gooseberry',\n",
       " 'honeycrisp apple',\n",
       " 'honeydew',\n",
       " 'kiwi',\n",
       " 'mango',\n",
       " 'papaya',\n",
       " 'pineapple',\n",
       " 'strawberry',\n",
       " 'tomato',\n",
       " 'watermelon'}"
      ]
     },
     "execution_count": 13,
     "metadata": {},
     "output_type": "execute_result"
    }
   ],
   "source": [
    "set(fruits)"
   ]
  },
  {
   "cell_type": "code",
   "execution_count": 18,
   "id": "e946250f",
   "metadata": {},
   "outputs": [
    {
     "data": {
      "text/plain": [
       "array(['kiwi', 'mango', 'strawberry', 'pineapple', 'gala apple',\n",
       "       'honeycrisp apple', 'tomato', 'watermelon', 'honeydew',\n",
       "       'blueberry', 'blackberry', 'gooseberry', 'papaya'], dtype=object)"
      ]
     },
     "execution_count": 18,
     "metadata": {},
     "output_type": "execute_result"
    }
   ],
   "source": [
    "## another way\n",
    "fruits.unique()"
   ]
  },
  {
   "cell_type": "markdown",
   "id": "77d880c6",
   "metadata": {},
   "source": [
    "9. Determine how many times each unique string value occurs in fruits."
   ]
  },
  {
   "cell_type": "code",
   "execution_count": 21,
   "id": "59748bfc",
   "metadata": {},
   "outputs": [
    {
     "data": {
      "text/plain": [
       "kiwi                4\n",
       "mango               2\n",
       "strawberry          1\n",
       "pineapple           1\n",
       "gala apple          1\n",
       "honeycrisp apple    1\n",
       "tomato              1\n",
       "watermelon          1\n",
       "honeydew            1\n",
       "blueberry           1\n",
       "blackberry          1\n",
       "gooseberry          1\n",
       "papaya              1\n",
       "dtype: int64"
      ]
     },
     "execution_count": 21,
     "metadata": {},
     "output_type": "execute_result"
    }
   ],
   "source": [
    "fruits.value_counts()"
   ]
  },
  {
   "cell_type": "markdown",
   "id": "7d1e3979",
   "metadata": {},
   "source": [
    "10. Determine the string value that occurs most frequently in fruits."
   ]
  },
  {
   "cell_type": "code",
   "execution_count": 27,
   "id": "57ef70b9",
   "metadata": {},
   "outputs": [
    {
     "data": {
      "text/plain": [
       "kiwi    4\n",
       "dtype: int64"
      ]
     },
     "execution_count": 27,
     "metadata": {},
     "output_type": "execute_result"
    }
   ],
   "source": [
    "order_fruits = fruits.value_counts()\n",
    "order_fruits.head(1)"
   ]
  },
  {
   "cell_type": "markdown",
   "id": "16336fdd",
   "metadata": {},
   "source": [
    "11. Determine the string value that occurs least frequently in fruits."
   ]
  },
  {
   "cell_type": "code",
   "execution_count": 29,
   "id": "0fe96905",
   "metadata": {},
   "outputs": [
    {
     "data": {
      "text/plain": [
       "papaya    1\n",
       "dtype: int64"
      ]
     },
     "execution_count": 29,
     "metadata": {},
     "output_type": "execute_result"
    }
   ],
   "source": [
    "## several items have 1\n",
    "order_fruits.tail(1)"
   ]
  },
  {
   "cell_type": "markdown",
   "id": "69d028e1",
   "metadata": {},
   "source": [
    "Tasha's way!!"
   ]
  },
  {
   "cell_type": "code",
   "execution_count": 31,
   "id": "468fc66b",
   "metadata": {},
   "outputs": [
    {
     "data": {
      "text/plain": [
       "strawberry          1\n",
       "pineapple           1\n",
       "gala apple          1\n",
       "honeycrisp apple    1\n",
       "tomato              1\n",
       "watermelon          1\n",
       "honeydew            1\n",
       "blueberry           1\n",
       "blackberry          1\n",
       "gooseberry          1\n",
       "papaya              1\n",
       "dtype: int64"
      ]
     },
     "execution_count": 31,
     "metadata": {},
     "output_type": "execute_result"
    }
   ],
   "source": [
    "order_fruits.nsmallest(n=1, keep='all')"
   ]
  }
 ],
 "metadata": {
  "kernelspec": {
   "display_name": "Python 3 (ipykernel)",
   "language": "python",
   "name": "python3"
  },
  "language_info": {
   "codemirror_mode": {
    "name": "ipython",
    "version": 3
   },
   "file_extension": ".py",
   "mimetype": "text/x-python",
   "name": "python",
   "nbconvert_exporter": "python",
   "pygments_lexer": "ipython3",
   "version": "3.10.9"
  }
 },
 "nbformat": 4,
 "nbformat_minor": 5
}
